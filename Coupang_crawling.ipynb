{
  "nbformat": 4,
  "nbformat_minor": 0,
  "metadata": {
    "colab": {
      "provenance": [],
      "authorship_tag": "ABX9TyPTsXF+LfJItCRRE91DgwXF",
      "include_colab_link": true
    },
    "kernelspec": {
      "name": "python3",
      "display_name": "Python 3"
    },
    "language_info": {
      "name": "python"
    }
  },
  "cells": [
    {
      "cell_type": "markdown",
      "metadata": {
        "id": "view-in-github",
        "colab_type": "text"
      },
      "source": [
        "<a href=\"https://colab.research.google.com/github/thoongee/TextAnalysis/blob/main/Coupang_crawling.ipynb\" target=\"_parent\"><img src=\"https://colab.research.google.com/assets/colab-badge.svg\" alt=\"Open In Colab\"/></a>"
      ]
    },
    {
      "cell_type": "markdown",
      "source": [
        "### C.에비뉴"
      ],
      "metadata": {
        "id": "74WxG0vvUqy8"
      }
    },
    {
      "cell_type": "code",
      "execution_count": null,
      "metadata": {
        "colab": {
          "base_uri": "https://localhost:8080/"
        },
        "id": "HpvxS1iOTuU7",
        "outputId": "d417094d-139f-43d9-9932-f729cb3d852d"
      },
      "outputs": [
        {
          "output_type": "stream",
          "name": "stdout",
          "text": [
            "Looking in indexes: https://pypi.org/simple, https://us-python.pkg.dev/colab-wheels/public/simple/\n",
            "Requirement already satisfied: openpyxl in /usr/local/lib/python3.9/dist-packages (3.0.10)\n",
            "Requirement already satisfied: et-xmlfile in /usr/local/lib/python3.9/dist-packages (from openpyxl) (1.1.0)\n",
            "Looking in indexes: https://pypi.org/simple, https://us-python.pkg.dev/colab-wheels/public/simple/\n",
            "Requirement already satisfied: requests in /usr/local/lib/python3.9/dist-packages (2.27.1)\n",
            "Requirement already satisfied: certifi>=2017.4.17 in /usr/local/lib/python3.9/dist-packages (from requests) (2022.12.7)\n",
            "Requirement already satisfied: idna<4,>=2.5 in /usr/local/lib/python3.9/dist-packages (from requests) (3.4)\n",
            "Requirement already satisfied: urllib3<1.27,>=1.21.1 in /usr/local/lib/python3.9/dist-packages (from requests) (1.26.15)\n",
            "Requirement already satisfied: charset-normalizer~=2.0.0 in /usr/local/lib/python3.9/dist-packages (from requests) (2.0.12)\n",
            "Looking in indexes: https://pypi.org/simple, https://us-python.pkg.dev/colab-wheels/public/simple/\n",
            "Collecting bs4\n",
            "  Downloading bs4-0.0.1.tar.gz (1.1 kB)\n",
            "  Preparing metadata (setup.py) ... \u001b[?25l\u001b[?25hdone\n",
            "Requirement already satisfied: beautifulsoup4 in /usr/local/lib/python3.9/dist-packages (from bs4) (4.11.2)\n",
            "Requirement already satisfied: soupsieve>1.2 in /usr/local/lib/python3.9/dist-packages (from beautifulsoup4->bs4) (2.4)\n",
            "Building wheels for collected packages: bs4\n",
            "  Building wheel for bs4 (setup.py) ... \u001b[?25l\u001b[?25hdone\n",
            "  Created wheel for bs4: filename=bs4-0.0.1-py3-none-any.whl size=1270 sha256=6eeb87ca0ecf15de9c2db5a962f1fd798a0fea57e81299dc158af4628a553933\n",
            "  Stored in directory: /root/.cache/pip/wheels/73/2b/cb/099980278a0c9a3e57ff1a89875ec07bfa0b6fcbebb9a8cad3\n",
            "Successfully built bs4\n",
            "Installing collected packages: bs4\n",
            "Successfully installed bs4-0.0.1\n"
          ]
        }
      ],
      "source": [
        "!pip install openpyxl\n",
        "!pip install requests\n",
        "!pip install bs4"
      ]
    },
    {
      "cell_type": "code",
      "source": [
        "from google.colab import drive\n",
        "drive.mount('/content/drive')"
      ],
      "metadata": {
        "colab": {
          "base_uri": "https://localhost:8080/"
        },
        "id": "MVAwOXuCV99T",
        "outputId": "a21ebd95-a912-4329-bb92-3e054f0a95da"
      },
      "execution_count": null,
      "outputs": [
        {
          "output_type": "stream",
          "name": "stdout",
          "text": [
            "Mounted at /content/drive\n"
          ]
        }
      ]
    },
    {
      "cell_type": "code",
      "source": [
        "from bs4 import BeautifulSoup as bs\n",
        "from pathlib import Path\n",
        "from typing import Optional,Union,Dict,List\n",
        "from openpyxl import Workbook\n",
        "import time\n",
        "import os\n",
        "import re\n",
        "import requests as rq\n",
        "import json\n",
        "import csv"
      ],
      "metadata": {
        "id": "i1-tfjhAVy9v"
      },
      "execution_count": null,
      "outputs": []
    },
    {
      "cell_type": "code",
      "source": [
        "def get_headers(\n",
        "    key: str,\n",
        "    default_value: Optional[str] = None\n",
        "    )-> Dict[str,Dict[str,str]]:\n",
        "    \"\"\" Get Headers \"\"\"\n",
        "    JSON_FILE : str = '/content/drive/MyDrive/텍스트분석2023/headers.json'\n",
        "\n",
        "    with open(JSON_FILE,'r',encoding='UTF-8') as file:\n",
        "        headers : Dict[str,Dict[str,str]] = json.loads(file.read())\n",
        "\n",
        "    try :\n",
        "        return headers[key]\n",
        "    except:\n",
        "        if default_value:\n",
        "            return default_value\n",
        "        raise EnvironmentError(f'Set the {key}')\n",
        "\n",
        "class Coupang:\n",
        "    @staticmethod\n",
        "    def get_product_code(url: str)-> str:\n",
        "        \"\"\" 입력받은 URL 주소의 PRODUCT CODE 추출하는 메소드 \"\"\"\n",
        "        prod_code : str = url.split('products/')[-1].split('?')[0]\n",
        "        return prod_code\n",
        "\n",
        "    def __init__(self)-> None:\n",
        "        self.__headers : Dict[str,str] = get_headers(key='headers')\n",
        "\n",
        "    def main(self)-> List[List[Dict[str,Union[str,int]]]]:\n",
        "        # URL 주소\n",
        "        URL : str = self.input_review_url()\n",
        "\n",
        "        # URL의 Product Code 추출\n",
        "        prod_code : str = self.get_product_code(url=URL)\n",
        "\n",
        "        # URL 주소 재가공\n",
        "        URLS : List[str] = [f'https://www.coupang.com/vp/product/reviews?productId={prod_code}&page={page}&size=5&sortBy=ORDER_SCORE_ASC&ratings=&q=&viRoleCode=3&ratingSummary=true' for page in range(1,self.input_page_count() + 1)]\n",
        "\n",
        "        # __headers에 referer 키 추가\n",
        "        self.__headers['referer'] = URL\n",
        "\n",
        "        with rq.Session() as session:\n",
        "            return [self.fetch(url=url,session=session) for url in URLS]\n",
        "\n",
        "    def fetch(self,url:str,session)-> List[Dict[str,Union[str,int]]]:\n",
        "        save_data : List[Dict[str,Union[str,int]]] = list()\n",
        "\n",
        "        with session.get(url=url,headers=self.__headers) as response :\n",
        "            html = response.text\n",
        "            soup = bs(html,'html.parser')\n",
        "\n",
        "            # Article Boxes\n",
        "            article_lenth = len(soup.select('article.sdp-review__article__list'))\n",
        "\n",
        "            for idx in range(article_lenth):\n",
        "                dict_data : Dict[str,Union[str,int]] = dict()\n",
        "                articles = soup.select('article.sdp-review__article__list')\n",
        "\n",
        "                # 구매자 이름\n",
        "                user_name = articles[idx].select_one('span.sdp-review__article__list__info__user__name')\n",
        "                if user_name == None or user_name.text == '':\n",
        "                    user_name = '-'\n",
        "                else:\n",
        "                    user_name = user_name.text.strip()\n",
        "\n",
        "                # 평점\n",
        "                rating = articles[idx].select_one('div.sdp-review__article__list__info__product-info__star-orange')\n",
        "                if rating == None:\n",
        "                    rating = 0\n",
        "                else :\n",
        "                    rating = int(rating.attrs['data-rating'])\n",
        "\n",
        "                # 구매자 상품명\n",
        "                prod_name = articles[idx].select_one('div.sdp-review__article__list__info__product-info__name')\n",
        "                if prod_name == None or prod_name.text == '':\n",
        "                    prod_name = '-'\n",
        "                else:\n",
        "                    prod_name = prod_name.text.strip()\n",
        "\n",
        "                # 헤드라인(타이틀)\n",
        "                headline = articles[idx].select_one('div.sdp-review__article__list__headline')\n",
        "                if headline == None or headline.text == '':\n",
        "                    headline = '등록된 헤드라인이 없습니다'\n",
        "                else:\n",
        "                    headline = headline.text.strip()\n",
        "\n",
        "                # 리뷰 내용\n",
        "                review_content = articles[idx].select_one('div.sdp-review__article__list__review > div')\n",
        "                if review_content == None :\n",
        "                    review_content = '등록된 리뷰내용이 없습니다'\n",
        "                else:\n",
        "                    review_content = re.sub('[\\n\\t]','',review_content.text.strip())\n",
        "\n",
        "                # 맛 만족도\n",
        "                answer = articles[idx].select_one('span.sdp-review__article__list__survey__row__answer')\n",
        "                if answer == None or answer.text == '':\n",
        "                    answer = '맛 평가 없음'\n",
        "                else:\n",
        "                    answer = answer.text.strip()\n",
        "\n",
        "                dict_data['prod_name'] = prod_name\n",
        "                dict_data['user_name'] = user_name\n",
        "                dict_data['rating'] = rating\n",
        "                dict_data['headline'] = headline\n",
        "                dict_data['review_content'] = review_content\n",
        "                dict_data['answer'] = answer\n",
        "\n",
        "                save_data.append(dict_data)\n",
        "\n",
        "                print(dict_data , '\\n')\n",
        "\n",
        "            time.sleep(1)\n",
        "\n",
        "            return save_data\n",
        "\n",
        "    def input_review_url(self)-> str:\n",
        "        while True:\n",
        "            # Window\n",
        "            os.system('cls')\n",
        "            # Mac\n",
        "            #os.system('clear')\n",
        "            \n",
        "            # Review URL\n",
        "            review_url : str = input('원하시는 상품의 URL 주소를 입력해주세요\\n\\nEx)\\nhttps://www.coupang.com/vp/products/6451503812?itemId=14007944553&vendorItemId=73528488680&sourceType=srp_product_ads&clickEventId=28aaab30-71e3-4f30-9059-07a29eb1b27f&korePlacement=15&koreSubPlacement=6&q=%EB%9E%A9%EB%85%B8%EC%89%AC&itemsCount=36&searchId=af6bda06076947a39f847ed86a718c34&rank=5&isAddedCart=\\n\\n:')\n",
        "            if not review_url :\n",
        "                # Window\n",
        "                os.system('cls')\n",
        "                # Mac\n",
        "                #os.system('clear')\n",
        "                print('URL 주소가 입력되지 않았습니다')\n",
        "                continue\n",
        "            return review_url\n",
        "\n",
        "    def input_page_count(self)-> int:\n",
        "        # Window\n",
        "        os.system('cls')\n",
        "        # Mac\n",
        "        #os.system('clear')\n",
        "        while True:\n",
        "            page_count : str = input('페이지 수를 입력하세요\\n\\n:')\n",
        "            if not page_count:\n",
        "                print('페이지 수가 입력되지 않았습니다\\n')\n",
        "                continue\n",
        "\n",
        "            return int(page_count)\n",
        "\n",
        "class OpenPyXL:\n",
        "    @staticmethod\n",
        "    def save_file()-> None:\n",
        "        # 크롤링 결과\n",
        "        results : List[List[Dict[str,Union[str,int]]]] = Coupang().main()\n",
        "\n",
        "        wb = Workbook()\n",
        "        ws = wb.active\n",
        "        ws.append(['상품명','구매자 이름','구매자 평점','리뷰 제목','리뷰 내용','맛 만족도'])\n",
        "\n",
        "        row = 2\n",
        "\n",
        "        for x in results:\n",
        "            for result in x :\n",
        "                ws[f'A{row}'] = result['prod_name']\n",
        "                ws[f'B{row}'] = result['user_name']\n",
        "                ws[f'C{row}'] = result['rating']\n",
        "                ws[f'D{row}'] = result['headline']\n",
        "                ws[f'E{row}'] = result['review_content']\n",
        "                ws[f'F{row}'] = result['answer']\n",
        "\n",
        "                row += 1\n",
        "\n",
        "        savePath : str = os.path.abspath('/content/drive/MyDrive/텍스트분석2023/data')\n",
        "        fileName : str = results[0][0]['prod_name'] + '.xlsx'\n",
        "\n",
        "        if not os.path.exists(savePath):\n",
        "            os.mkdir(savePath)\n",
        "\n",
        "        wb.save(os.path.join(savePath,fileName))\n",
        "        wb.close()\n",
        "        print(f'파일 저장완료!\\n\\n{os.path.join(savePath,fileName)}')"
      ],
      "metadata": {
        "id": "JSX0-ltJViIP"
      },
      "execution_count": null,
      "outputs": []
    },
    {
      "cell_type": "code",
      "source": [
        "OpenPyXL.save_file()"
      ],
      "metadata": {
        "colab": {
          "base_uri": "https://localhost:8080/"
        },
        "id": "8UcrKPjOViEy",
        "outputId": "2838df3e-2eac-4aa8-cc6b-1b6ad2402a21"
      },
      "execution_count": null,
      "outputs": [
        {
          "output_type": "stream",
          "name": "stdout",
          "text": [
            "원하시는 상품의 URL 주소를 입력해주세요\n",
            "\n",
            "Ex)\n",
            "https://www.coupang.com/vp/products/6451503812?itemId=14007944553&vendorItemId=73528488680&sourceType=srp_product_ads&clickEventId=28aaab30-71e3-4f30-9059-07a29eb1b27f&korePlacement=15&koreSubPlacement=6&q=%EB%9E%A9%EB%85%B8%EC%89%AC&itemsCount=36&searchId=af6bda06076947a39f847ed86a718c34&rank=5&isAddedCart=\n",
            "\n",
            ":https://www.coupang.com/vp/products/6326533165?itemId=13211697274&vendorItemId=5508781232&sourceType=CATEGORY&categoryId=486148&isAddedCart=\n",
            "페이지 수를 입력하세요\n",
            "\n",
            ":3\n",
            "{'prod_name': '프리메라 워터 180ml, 1세트', 'user_name': 'Burgundy', 'rating': 5, 'headline': '순한 프리메라 오가니언스 스킨~~', 'review_content': '총평쓰던 스킨이 떨어지는 바람에 급작스럽게 로켓쐈어요 ! 프리메라 워터 180ml + 아모레퍼시픽 3종 셋트 14620원으로 겟!! 아모레퍼시픽은 다들 아실거에요! 그중에 프리메라 라인들은 특히 순한 라인이에요 ! 저 역시도 민감한 피부라 꾸준히 애용하고 있어요 맑은 갈색의 스킨으로 주성분은 발아 검은콩 추출물과 은은한 어성초 그리고 쑥의 조화를 이르구요 피부를 진정하고 정화시켜 맑고 촉촉한 피부로 정돈해 주는 토너에요 ㅎㅎ 가볍게 발리면서 끈적임 없이 촉촉한 사용감으로 피부결을 정돈 시켜줘요 냄새는 은은한 허브향(?)이 나구요바르는 순간 싹~ 흡수가 되서 산뜻한 느낌이 들어요 유통기한 2024.04.07 로 3년 조금 안되는 제품 받았어요 ! 같이 온 샘플도 아모레라인으로 ~ (라네즈크림스킨15ml, 마몽드 캐모마일 퓨어토너25ml,한율 어린쑥 진정크림 10ml ) *토너와는 분리배송 되는 참고 바랄게요 * 가격도 이렇게 저렴하다니!! 대박 !!!!!무엇보다 로켓이 된다는점~~ 넘 사랑해요❤️스킨만 바르면 아무래도 건조한 느낌이 들거 같아요 ~ 프리메라 로션 그리고 워터리 크림(개인적으로 정말 강추!) 같이 한번 써보세요 모두들 무더운 여름 끈적임 없이 촉촉한 프리메라로 나세요 ! ❤️', 'answer': '적당히 만족해요'} \n",
            "\n",
            "{'prod_name': '프리메라 워터 180ml, 1세트', 'user_name': '한*우', 'rating': 5, 'headline': '고급스러운 스킨 그대로!!', 'review_content': '백화점에도 입점 되있는 프리메라 화장품을쿠팡에서도 만나볼수있어서 넘 좋네요패키지의 고급스러움은 물론 품질까지도 함께 보장되니 더 믿고 사용할 수 있네요!화장품 용기의 재질은 유리 재질 이구요일단 뚜껑을 열었을때 느껴지는 약간의 허브향이 좋네요고급스러운 샵에서 피부결 정돈 할 때 발라주는 그런 스킨향이 납니다스킨 제형은 물 같은 제형이구요색깔은 은은한 갈색빛을 띄어요~저의 피부타입은 복합성인 중건성입니다.저는 피부결 정리를 위해 세안 후에화장솜에 스킨을 적셔서 바르거나아니면 그냥 손바닥에 살짝 부어서 사용해보았어요다른 물 스킨 재질의 화장품과 비교해 보았을 때조금 더 촉촉한 느낌이 드네요!피부의 속건조를 잡아주는 7스킨 사용법에도 걸맞는 스킨인거 같습니다자극도 없고 바르고나면 피부에 산뜻하고도 촉촉한 촉감을 주어서 만족합니다~ 쿠팡체험단 이벤트로 상품을 무료로 제공 받아 작성한 구매 후기입니다.', 'answer': '아주 만족해요'} \n",
            "\n",
            "{'prod_name': '프리메라 워터 180ml, 1세트', 'user_name': '사과나아무', 'rating': 5, 'headline': '향도좋고 순해요~!!', 'review_content': '프리메라는 처음 써봤는데 향도 좋고 화장품 자체가 고급스러운 느낌이라 맘에드네요~~성분도 발아 검은콩 어성초 쑥 추출물이 들어가 있더라구요 피부에 좋은 성분들이라 더 믿고 사용할 수 있었어요!! 직접 사용해보니까 끈적이지 않았고 흡수도 금방됬어요 은은한 허브향이 좋았구요 자극없이 순하게 사용할 수 있는 제품인것 같아요 색은 갈색 제형이니 참고해주세요~ 추가로 타제품은 스킨 쓸때 한번에 확 쏟아져 나오는 경우가 있는데 이 제품은 아예 거꾸로 뒤집어도 조금씩 나오더라구요 적당한 양만 덜어쓸 수 있어서 좋습니다~!! 너무 많이나와서 곤란한일은 없겠어요~ㅎㅎ 잘 쓰겠습니다 쿠팡체험단 이벤트로 상품을 무료로 제공 받아 작성한 구매 후기입니다.', 'answer': '아주 만족해요'} \n",
            "\n",
            "{'prod_name': '프리메라 워터 180ml, 1세트', 'user_name': '빵56', 'rating': 5, 'headline': '허브향 너무 좋아요', 'review_content': '토너 다 써가기도하고 유목민이라 이것저것 써봤는데 프리메라는 처음이라 도전해봤어요 !살짝 갈색을 띄고 있길래 한방냄새날 것같았는데하브향이에요.손등에 바르고 향 맡아봤는데 편안해지는 허브향이라 넘 좋아요.열자마자 묵직한 유리병의 고급스러움이 느껴져요입구가 좁고 유리병이라 내용물이 잘 안나와요 ㅋㅋ들고 탈탈 털어야 겨우 찔끔찔끔 나옴.플라스틱이면 몸통 부분 꾹 눌렀을텐데 유리라서 어떻게 할 수가 없음.이건 좀 답답하네여 ㅋ화장솜에 묻혀봤는데 연갈색 띄고 바르니 적당히 촉촉해요 ! 쿠팡체험단 이벤트로 상품을 무료로 제공 받아 작성한 구매 후기입니다.', 'answer': '아주 만족해요'} \n",
            "\n",
            "{'prod_name': '프리메라 워터 180ml, 1세트', 'user_name': '연*희', 'rating': 5, 'headline': '프리메라  오가니언스 워터', 'review_content': '프리메라  오가니언스 워터피부 진정 및 정화.피부저항력 강화맑고  촉촉한 피부로 정돈해주는 토너사용기간도 넉넉합니다.남편이 세트화장품을 사용하다보면  스킨이 먼저 떨어져단품토너 구매하게되는데쿠팡체험단 좋은기회에 접하게 되었네요맨 전용도 있는데 모든 피부용인프리메라 오가니언스 워터선택제품 발라본 느낌은자연곡물 추출물들로 자극없고향도 은은하니 친근하게 다가오네요피부정돈은 확실히 굿끈끈함이 전혀없으며 흡수력이 좋으네요..감사히 잘 쓸게요., 쿠팡체험단 이벤트로 상품을 무료로 제공 받아 작성한 구매 후기입니다.', 'answer': '아주 만족해요'} \n",
            "\n",
            "{'prod_name': '프리메라 워터 180ml, 1세트', 'user_name': '최*영', 'rating': 5, 'headline': '깊은주름까지 쫙쫙~무조건 재구매!', 'review_content': '처음으로 체험단에 선정되어 설렘반 기대반으로 사용해보았다.처음 화장솜에 묻히는순간 와르르 왕창 나오면 어쩌지하는 걱정과는 달리 읭? 입구에 비해 너무 찔끔찔끔 나왔다..화장솜에 충분히 적시려면몇번이고 톡톡톡.톡톡톡톡톡톡ㄱㄱ...대충 몇번묻히고 닦아냈는데 속건조에 지성인 내 피부엔뭔가 보습이 안되고 더 당기는 느낌이 들었다ㅠ오가니언스 워터인데 토너? 닦아내듯 고르게 펴 바르는데 화장솜에 묻혀..? 뭔가 조금 이해가 안갔지만 사용법대로한 일주일을 사용했는데 피부가 더 당겨서 에센스와 크림을 더 듬뿍듬뿍 바르게되었다.. 평소 화장솜에 토너 왕창묻혀 닦토하는 나에겐 답답한 느낌이었다그래서 평소 하던대로 닦토용 토너로 세수하자마자 욕실에서 닦토를 하고 나와서 프리메라 오가니언스워터는 냉장고에 넣어두었다가 그대로 피부에 촵촵~어라? 이 촉촉함은 뭐지? 이 방법으로 3주정도 사용했더니 촉촉함은 물론이고이마로 눈뜨는 습관으로 인해 이마주름이 깊은데깊은이마주름이 쫘악 펴졌다!!다른 기초화장품을 바꾼것도 아니고기존에 쓰던 닦토로 닦토 > 프리메라오가니언스워터 >기존에 쓰던 에센스 . 끝기초도 여러개 쓰면 답답해서 크림도 더 바르지않았다.환절기인 요즘에 건조해지는거같아 당기는 느낌들때만 주2회 정도 저녁에 크림을 발랐다.향은 우디?향 같이 너무 좋다. 처음 사용한 날 아들이 옆에 와서는 엄마냄새좋다~라고ㅎㅎ 한달정도 사용한 지금은 익숙해졌는지 냄새가 처음으로 그렇게 확~ 나지않지만은은한 향과 보습력이 정말 최고인거 같다!처음 찔끔찔끔 나와서 답답했던 입구가 지금은 손에 적당히톡톡 나와서 장점이되었다~다쓰면 내돈내산 재구매ㄱㄱ~', 'answer': '아주 만족해요'} \n",
            "\n",
            "{'prod_name': '프리메라 워터 180ml, 1세트', 'user_name': '쿠팡실구매자', 'rating': 5, 'headline': '등록된 헤드라인이 없습니다', 'review_content': '이리저리 할 일이 많아서 후기를 이제서야 쓰게 되었네요ㅠㅠ개학하고 낮밤이 바뀌는 바람에,,  피부가 울긋불긋해용..후기가 엄청 좋길래 기대 많이 했는데 역시 후기가 좋은 데에는 이유가 있네요!•진정저는 보통 아래 사진처럼 소량으로 닦토를 해주는데용 이 토너를 사용한 날과 사용하지 않은 날 피부상태가 달라서ㅋㅋㅋ 처음 사용하고 놀랐어욤,, 좀 더 많이 적셔서 토너팩을 해주면 바로 피부진정이 되더라구여 !!•향평소에 무향스킨케어를 사용했다 보니까 좀 어색하더라구요근데 또 금방 적응됐어요 •입구입구가 작아서 푹푹 사용할 때 좀 답답해요 그래도 입구가 좁아서 양조절 실패하는 일이 없다는 점은 개인적으로 좋았어요! 자주 흘렸는데 흘리는 일도 없구요•보습보습에 대해서는 개인차가 좀 있을 것 같네요 저는 건성피부라 피부가 금방 건조해졌습니다ㅠㅠ 물론 바로 앰플 사용하기도 하고 스킨만 바르는 일은 거의 없으니까 상관없기는 하네요', 'answer': '적당히 만족해요'} \n",
            "\n",
            "{'prod_name': '프리메라 워터 180ml, 1세트', 'user_name': '자매맘', 'rating': 5, 'headline': '등록된 헤드라인이 없습니다', 'review_content': '프리메라 세트를 선물 받은적이 있어요.처음 들어 본 브랜드 이기도 하고 자기 피부에 맞지 않으면 사람들은 잘 쓰지 않자나요.당장 스킨 로션이 떨어져서 구입하기 전까지 사용해 볼까해서 사용했는데 향도 강하지 않고 자극도 없어서 마음에 들었어요.씻고 나와서 피부를 진정하고 정화시켜주는 느낌을 받았어요.맑고 촉촉한 피부로 정돈해주는 토너 덕분에 끈적임 없이 촉촉함을느꼈어요.사용설명..아침,저녁 세안 후 화장솜에 충분한 양을 취해 얼굴 안쪽에서 바깥쪽으로닦아내듯 고르게 펴 바르면 됩니다.상품정보.제품명: 워터용량:180ml제품피부타입: 모든피부제조사: (주)아모레퍼시픽제조국: 한국', 'answer': '아주 만족해요'} \n",
            "\n",
            "{'prod_name': '프리메라 워터 180ml, 1세트', 'user_name': '지마', 'rating': 5, 'headline': '프리메라오가니언스워터 좋아요!', 'review_content': '파라벤, 동물성원료, 광물성오일, 합성색소, 합성향이 없는 제품인데요, 순하기도하고 향도 저에겐 독하지 않은편이라 너무 좋네요.프리메라가 임산부튼살크림에도 유명한거라 브랜드는 알고있었고, 임산부가 사용할수있는 정도니, 전반적으로 모든제품이 순한거 같다고 생각해서 이걸로 선택했어요워터라서 일반 닥토같은 느낌인데 빠르고 흡수도 잘되서 저에겐 딱이네요.주로 약국화장품 많이써봤는데, 이제 이걸로 정착해도 될것같아요!  얼굴에 많이 바르는것보다 조금 발라도 본인 얼굴에 잘 맞는걸 쓰자는 생각이라서 프리메라가 좋은거같아요.요즘 코로나로 화장품쇼핑을 밖에서 못하고 쿠팡에서 거의 다 구매합니다. 쿠팡체험단 이벤트로 상품을 무료로 제공 받아 작성한 구매 후기입니다.', 'answer': '적당히 만족해요'} \n",
            "\n",
            "{'prod_name': '프리메라 워터 180ml, 1세트', 'user_name': '정*정', 'rating': 5, 'headline': '촉촉한 보습력 쌀쌀해질때 좋을것같아요~', 'review_content': '《프리메라 오가니언스 워터후기》프리메라 제품은 이번에 첨 써보네요저는 지복합성에 민감성 피부라 화장품을 아무 거나 사용하지를 못하거든요이 제품을 선택한 이유는 피부진정효과와 주성분이 검은콩 어성초 쑥같은 식물성으로 만든 제품이라보고 해서 선택하게 되었습니다오늘 받고 테스트겸 손등과 얼굴에 발라봤는데요촉촉한 보습력과 피부가 쫀쫀하게 탄력이 생기는 느낌이네요액체색과 향을 보니 어성초  들어간게 확 티나네요민감성피부인 제게 트러블도 안생기는것 같아요후기에서도 반응이 좋은 제품이니 저도 믿고 사용해보겠습니다~※쿠팡체험단 이벤트로 무료로 제공받아 작성한 후기입니다※ 쿠팡체험단 이벤트로 상품을 무료로 제공 받아 작성한 구매 후기입니다.', 'answer': '아주 만족해요'} \n",
            "\n",
            "{'prod_name': '프리메라 워터 180ml, 1세트', 'user_name': '김*라', 'rating': 5, 'headline': '만족스러워요', 'review_content': '닥토 떨어져서 샀어요ㅎㅎ색이 갈색이에요. 닥토라고 했는데 완전 물 스킨은 아닌 것 같아요.그렇다고 점성이 있는 것도 아닌것 같고...닥토만 했는데도 수분감이 좀 느껴져요. 악건성이라 스킨만 바르면 얼굴 당겨서 바로 크림 발라주는데 이건 묽은 에센스 바른 것 같아요.약간 피테라 에센스 느낌도 나요.향이 한방 냄새 날 줄 알았는데 허브에 가까워요.그리고 약간 비타민 같은 냄새도 나는 것 같아서 얼굴이 밝아질 것 같아요. 혹시나 하고 후기 찾아보니까 얼굴이 환해졌다는 글이 있어서 미백에도 효과가 있나봐요ㅡ근데 향이 금방 날라가요. 그래서 더 좋은 거 같아요.이제 환절기인데 수분을 채워주는 느낌이라 잘 쓸 거 같아요.전체적으로 만족스럽네요:) 쿠팡체험단 이벤트로 상품을 무료로 제공 받아 작성한 구매 후기입니다.', 'answer': '아주 만족해요'} \n",
            "\n",
            "{'prod_name': '프리메라 워터 180ml, 1세트', 'user_name': '최*유', 'rating': 5, 'headline': '자극없이 순한 토너', 'review_content': '물같이 흐르는 제형으로 맨손으로 발라도 되지만 화장솜에 적셔 사용해도 좋아요. 처음엔 잘 안나오는데 조금만 쓰고 나면 잘나옵니다. 저는 맨손으로도 바르고 화장솜으로도 발라 봤는데 둘다 괜찮았고 큰 차이는 없었어요.제가 성분 전문가는 아니지만 화해라는 화장품 성분 분석 어플에 검색했을 때 유해한 성분이 없다고 합니다. 제가 사용했을 때도 자극 전혀 없었어요. 눈에 들어가도 안따가웠습니다. 향은 아예 없는건 아니지만 인공적인 향보다는 그냥 자연스럽게 산뜻한 향입니다.가장 중요한 효과는 아직 일주일 정도만 사용했기 때문에 큰 효과는 모르겠습니다. 다른 분들 리뷰을 보니 수부지 피부 타입 분들께 잘 맞눈 것 같습니다. 쿠팡체험단 이벤트로 상품을 무료로 제공 받아 작성한 구매 후기입니다.', 'answer': '아주 만족해요'} \n",
            "\n",
            "{'prod_name': '프리메라 워터 180ml, 1세트', 'user_name': '조*영', 'rating': 5, 'headline': '등록된 헤드라인이 없습니다', 'review_content': '건조한피부 땡김없이 잘맞아용~~냄새는 한약냄새?암튼 자극없고 좋네요 병이라 조금 무겁기는한데 그것빼고는 추천하고갑니당  주문하세요  아침에일어나서 촉촉하구부드러운얼굴만지니 좋네요~~', 'answer': '적당히 만족해요'} \n",
            "\n",
            "{'prod_name': '프리메라 워터 180ml, 1세트', 'user_name': 'seizedoday', 'rating': 1, 'headline': '등록된 헤드라인이 없습니다', 'review_content': '토너를 다써서 갈아타려고 화해에서 엄청 리뷰 뒤지고 다녔는데 이 상품이 여드름에 좋다고 하여 이번 토너는 이걸로 픽했음.   화요일 배송예정이었는데 월요일로 수정되더니 토요일에 딩동하더니 문열어보니 도착해있음. 배송빠르네여바로 써봤는데 피부 부들부들해지고 좁쌀여드름도 좀 들어가는것 같음. 원래 향에는 민감하지않은타입이라 은은하니 좋았음. 유리병이고 입구에 실리콘 튜브같은게 껴있어서 솜에다가 적실려면 여러번 많이 두드려야 겨우 솜 반정도 적심. 액체는 갈색이라 클렌징이후에 닦토했을때 얼굴에 남은것이 있는지 확인하기는 어려움. 얼굴에 여드름이 없었던적이 어린이시절말고는 없는 그런여드름 피부인데 암튼 이 토너 만족해여 하지만 집에서 이걸바르고 외출하지않는다고 주구장창 세수안하고있는것은 좋지않은듯하고 주기적으로 세수하고바르고 세수하고 바르고 해줘야하는거같음. 주말에 오래안씻고있었더니만 다시 뭐가 올라올거같은 느낌임ㅡㅡㅡㅡㅡㅡㅡ이마에 왕여드름 두개나 났어요 독한건지 ㅜㅜㅜㅜ', 'answer': '맛 평가 없음'} \n",
            "\n",
            "{'prod_name': '프리메라 워터 180ml, 1세트', 'user_name': '솔직한돼지', 'rating': 5, 'headline': '등록된 헤드라인이 없습니다', 'review_content': '요새 오가니언스 샘플을 많이 뿌리더라이건 아모레의 빅픽쳐인가샘플이 상당히 맘에 들어 구매했다본품은 유리병이라 무겁고 덜어서 쓰기가 불편하게 되어있다.그래도 자연을 생각해야하는 시점이니 플라스틱 안쓰는 프리메라에게 협조하기로 함.이 제품은 별다른 기능은 없지만 쓰고나면 피부결이 매끄러워진다.그리고 딱히 이걸쓰고 트러블이 난적은 없다.향도.. 음 뭔가 향이 나긴하지만 거슬리진 않다. 비염이라 향 설명을 못하겠네아무튼 쓰고나면 매끄러워지는 물토너를 처음 접해봐서 만족스럽다.평소 타사 물토너를 쓰고 있으나 이건 쓸때마다 피부가 더 거칠어지는 느낌이었는데이건 확실히 피부결이 정돈된다.아 참고로 나는 닦토로 이제품을 씀.복합성 건성 추천드림.유분감이 있어서 지성은 프리메라 다른 라인을 추천.나는 각질이 우수수 생성되는 타입이라 유분감으로 각질을 잠재운다.어쨌거나 아직까진 잘쓰고있다.', 'answer': '맛 평가 없음'} \n",
            "\n",
            "파일 저장완료!\n",
            "\n",
            "/content/drive/MyDrive/텍스트분석2023/data/프리메라 워터 180ml, 1세트.xlsx\n",
            "파일 저장완료!\n",
            "\n",
            "/content/drive/MyDrive/텍스트분석2023/data/프리메라 워터 180ml, 1세트.xlsx\n"
          ]
        }
      ]
    },
    {
      "cell_type": "code",
      "source": [],
      "metadata": {
        "id": "dN0xz8EYViDR"
      },
      "execution_count": null,
      "outputs": []
    },
    {
      "cell_type": "code",
      "source": [],
      "metadata": {
        "id": "waru8r6mViBs"
      },
      "execution_count": null,
      "outputs": []
    },
    {
      "cell_type": "code",
      "source": [],
      "metadata": {
        "id": "wYuKtYprVh_6"
      },
      "execution_count": null,
      "outputs": []
    },
    {
      "cell_type": "code",
      "source": [],
      "metadata": {
        "id": "zbbGvMYdVh-G"
      },
      "execution_count": null,
      "outputs": []
    },
    {
      "cell_type": "code",
      "source": [],
      "metadata": {
        "id": "KpVTlrJ7Vh8j"
      },
      "execution_count": null,
      "outputs": []
    }
  ]
}